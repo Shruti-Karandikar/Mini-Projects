{
 "cells": [
  {
   "cell_type": "code",
   "execution_count": 81,
   "metadata": {},
   "outputs": [],
   "source": [
    "import random\n",
    "import matplotlib.pyplot as plt "
   ]
  },
  {
   "cell_type": "markdown",
   "metadata": {},
   "source": [
    "In the original version, if i wanted to run the bisection method on a different polynomial, I would impliment it as a function but then need to edit `bisection` to call the correct function. THIS IS BAD! \n",
    "\n",
    "In this version, I send the function as a parameter, which is possible because in python, everything (including functions) is an object."
   ]
  },
  {
   "cell_type": "code",
   "execution_count": 82,
   "metadata": {},
   "outputs": [],
   "source": [
    "# Different funtions for different polynomials\n",
    "def f1(x):\n",
    "    a = 0.1\n",
    "    return a*x - 3.01\n",
    "\n",
    "def f2(x):\n",
    "    return x**2 - 5*x + 5.5\n",
    "\n",
    "\n",
    "def f3(x):\n",
    "    return 3*x**3 - 2*x**2 + 5*x - 3\n"
   ]
  },
  {
   "cell_type": "code",
   "execution_count": 83,
   "metadata": {},
   "outputs": [
    {
     "name": "stdout",
     "output_type": "stream",
     "text": [
      "-1 4\n"
     ]
    }
   ],
   "source": [
    "# Generate two numbers on either side of the root.\n",
    "p1 = random.randint(-10,10)\n",
    "p2 = random.randint(-10,10)\n",
    "\n",
    "while f(p1) > 0:\n",
    "    p1 = random.randint(-10,10)\n",
    "\n",
    "while f(p2) < 0:\n",
    "    p2 = random.randint(-10,10)\n",
    "    \n",
    "print(p1, p2)"
   ]
  },
  {
   "cell_type": "markdown",
   "metadata": {},
   "source": [
    "Basic `bisection` approach: Calculate the midpoint of the two end points and update the appropriate endpoint. Repeat till the range is small enough. \n",
    "\n",
    "Return the root, number of iterations, the values of the endpoints and the funtion values."
   ]
  },
  {
   "cell_type": "code",
   "execution_count": 84,
   "metadata": {},
   "outputs": [],
   "source": [
    "def bisection(p1, p2, range, f):\n",
    "    iterations = 0\n",
    "    p1_list = []\n",
    "    p2_list = []\n",
    "    fmid_list = []\n",
    "\n",
    "    while abs(p2 - p1) > range:\n",
    "        mid = (p1 + p2) / 2\n",
    "        #print(f'{iterations}: {p1} {p2} {mid} {f(mid)}')\n",
    "        if f(mid) < 0:\n",
    "            p1 = mid\n",
    "        else:\n",
    "            p2 = mid\n",
    "        iterations = iterations + 1\n",
    "        p1_list.append(p1) \n",
    "        p2_list.append(p2)\n",
    "        fmid_list.append(f(mid))\n",
    "\n",
    "    return (p1 + p2)/2, iterations, p1_list, p2_list, fmid_list\n",
    "    "
   ]
  },
  {
   "cell_type": "code",
   "execution_count": 85,
   "metadata": {},
   "outputs": [
    {
     "name": "stdout",
     "output_type": "stream",
     "text": [
      "30.100250244140625 16\n",
      "3.365936279296875 16\n",
      "0.612030029296875 16\n"
     ]
    }
   ],
   "source": [
    "#print(bisection(3.1, 0, 0.000000001))\n",
    "root, niter, l1, l2, l3 = bisection(0, 60, 0.001, f1)\n",
    "print(root, niter)\n",
    "\n",
    "root, niter, l1, l2, l3 = bisection(0, 60, 0.001, f2)\n",
    "print(root, niter)\n",
    "\n",
    "root, niter, l1, l2, l3 = bisection(0, 60, 0.001, f3)\n",
    "print(root, niter)"
   ]
  },
  {
   "cell_type": "code",
   "execution_count": 86,
   "metadata": {},
   "outputs": [
    {
     "data": {
      "text/plain": [
       "[<matplotlib.lines.Line2D at 0x10dc5a070>]"
      ]
     },
     "execution_count": 86,
     "metadata": {},
     "output_type": "execute_result"
    },
    {
     "data": {
      "image/png": "[encoded data removed]",
      "text/plain": [
       "<Figure size 640x480 with 1 Axes>"
      ]
     },
     "metadata": {},
     "output_type": "display_data"
    }
   ],
   "source": [
    "# Visulize how the range converges. \n",
    "plt.plot(l1)\n",
    "plt.plot(l2)\n",
    "# Visualize how the function approaches zero.\n",
    "plt.plot(l3)"
   ]
  }
 ],
 "metadata": {
  "kernelspec": {
   "display_name": "Python 3",
   "language": "python",
   "name": "python3"
  },
  "language_info": {
   "codemirror_mode": {
    "name": "ipython",
    "version": 3
   },
   "file_extension": ".py",
   "mimetype": "text/x-python",
   "name": "python",
   "nbconvert_exporter": "python",
   "pygments_lexer": "ipython3",
   "version": "3.9.6"
  }
 },
 "nbformat": 4,
 "nbformat_minor": 2
}
