{
 "cells": [
  {
   "cell_type": "code",
   "execution_count": 2,
   "metadata": {},
   "outputs": [],
   "source": [
    "import random\n",
    "import matplotlib.pyplot as plt\n",
    "import time\n",
    "import numpy as np"
   ]
  },
  {
   "cell_type": "code",
   "execution_count": 3,
   "metadata": {},
   "outputs": [],
   "source": [
    "# Generate a list of numbers that is suitably large and sort it\n",
    "def generate_list(size):\n",
    "    a = []\n",
    "    for i in range(size):\n",
    "        a.append(random.randint(0, size*10))\n",
    "        a.sort()\n",
    "    return a"
   ]
  },
  {
   "cell_type": "code",
   "execution_count": 70,
   "metadata": {},
   "outputs": [
    {
     "name": "stdout",
     "output_type": "stream",
     "text": [
      "[1, 8, 19, 39, 60, 61, 66, 73, 77, 100]\n"
     ]
    }
   ],
   "source": [
    "print(generate_list(10))"
   ]
  },
  {
   "cell_type": "markdown",
   "metadata": {},
   "source": [
    "Imagine a list: [1, 2, 3, 4, 5, 6] and you're looking for 3.\n",
    "\n",
    "First, you look at 1 which is not the value. then you look at 2. Incorrect. Then you look at 3. Found it!\n",
    "\n",
    "In Linear search you check items one after another in a line. You might find what you want right away, or you might have to check everything in the list. its the simplest way to search, but not always the fastest, especially with large lists. \n",
    "\n",
    "The runtime will be the most efficient when the number that your looking for is first in the list. The worst case runtime will be when the number is at the end of the list."
   ]
  },
  {
   "cell_type": "code",
   "execution_count": 4,
   "metadata": {},
   "outputs": [],
   "source": [
    "def linear_search(a, target):\n",
    "    for i in range(len(a)):\n",
    "        if a[i] == target:\n",
    "            return i\n",
    "    return \"none\""
   ]
  },
  {
   "cell_type": "code",
   "execution_count": 85,
   "metadata": {},
   "outputs": [
    {
     "name": "stdout",
     "output_type": "stream",
     "text": [
      "[23, 24, 27, 48, 68, 77, 85, 86, 90, 93]\n",
      "5\n"
     ]
    }
   ],
   "source": [
    "g = generate_list(10)\n",
    "print(g)\n",
    "print(linear_search(g, g[5]))"
   ]
  },
  {
   "cell_type": "markdown",
   "metadata": {},
   "source": [
    "1. Generate a large list search 3 times for the first element record the median time \n",
    "\n",
    "2. Search 3 times for the middle element record the median time\n",
    "\n",
    "3. Search 3 times for the last element and record the median time\n",
    "\n",
    "\n",
    "Done this for different list sizes and ploted the time vs the size of the list"
   ]
  },
  {
   "cell_type": "code",
   "execution_count": 14,
   "metadata": {},
   "outputs": [
    {
     "name": "stdout",
     "output_type": "stream",
     "text": [
      "done  1000\n",
      "done  2000\n",
      "done  4000\n",
      "done  8000\n",
      "done  16000\n",
      "done  32000\n",
      "done  48000\n",
      "done  64000\n",
      "done  80000\n",
      "done  96000\n"
     ]
    }
   ],
   "source": [
    "array_size = [1000, 2000, 4000, 8000, 16000, 32000, 48000, 64000, 80000, 96000]\n",
    "medians = []\n",
    "\n",
    "for size in array_size:\n",
    "    l = generate_list(size)  \n",
    "    median_list = []  \n",
    "\n",
    "    for target in range(3):\n",
    "        if target == 0:\n",
    "            target_index = 0  \n",
    "        elif target == 1:\n",
    "            target_index = size // 2  \n",
    "        else:\n",
    "            target_index = size - 1  \n",
    "\n",
    "        times = []  \n",
    "        for i in range(3): \n",
    "            start = time.perf_counter()\n",
    "            linear_search(l, l[target_index])  \n",
    "            end = time.perf_counter()\n",
    "            times.append(end - start)\n",
    "\n",
    "        times.sort()  \n",
    "        median_time = np.median(times)  \n",
    "        median_list.append(median_time)  \n",
    "\n",
    "    medians.append(median_list) \n",
    "    print(\"done \", size)\n",
    "\n",
    "#print(medians)\n"
   ]
  },
  {
   "cell_type": "markdown",
   "metadata": {},
   "source": [
    "This code groups the timing data from  linear search properly. I first create a new list called medians2 with three empty lists to store the reorganized times. The code takes each element and place it in the new lists - all first position timings go into the first list, middle position timings into the second list, and last position timings into the third list. This reorganization makes it easier to compare how search time varies based on the position of the target element across different list sizes."
   ]
  },
  {
   "cell_type": "code",
   "execution_count": 15,
   "metadata": {},
   "outputs": [],
   "source": [
    "medians2 = []\n",
    "for i in range(3):\n",
    "    medians2.append([])\n",
    "\n",
    "for mlist in medians:\n",
    "    for index, elem in enumerate(mlist):\n",
    "        medians2[index].append(elem)\n",
    "\n",
    "#for l in medians2:\n",
    " #   print(l)"
   ]
  },
  {
   "cell_type": "code",
   "execution_count": 16,
   "metadata": {},
   "outputs": [
    {
     "data": {
      "image/png": "[encoded data removed]",
      "text/plain": [
       "<Figure size 640x480 with 1 Axes>"
      ]
     },
     "metadata": {},
     "output_type": "display_data"
    }
   ],
   "source": [
    "for l in medians2:\n",
    "    plt.plot(array_size, l)"
   ]
  },
  {
   "cell_type": "markdown",
   "metadata": {},
   "source": [
    "When the element is first in the list, it takes the least amount of time and is the best case scenario. This is the blue line in the graph above.\n",
    "\n",
    "The worst case is when the element is last. This takes the most amount of time. This is the green curve in the graph above.\n",
    "\n",
    "The average case will be when the elment is in the middle. This is the orange curve in the graph above."
   ]
  }
 ],
 "metadata": {
  "kernelspec": {
   "display_name": "Python 3",
   "language": "python",
   "name": "python3"
  },
  "language_info": {
   "codemirror_mode": {
    "name": "ipython",
    "version": 3
   },
   "file_extension": ".py",
   "mimetype": "text/x-python",
   "name": "python",
   "nbconvert_exporter": "python",
   "pygments_lexer": "ipython3",
   "version": "3.9.6"
  }
 },
 "nbformat": 4,
 "nbformat_minor": 2
}
