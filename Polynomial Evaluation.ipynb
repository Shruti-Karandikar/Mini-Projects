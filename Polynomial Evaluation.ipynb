{
 "cells": [
  {
   "cell_type": "markdown",
   "metadata": {},
   "source": [
    "### Polynomial Evaluation\n",
    "\n",
    "$$\\begin{align}\n",
    "    p(x) &= a_0 + a_1x +a_2x^2 + \\ldots \\\\ \n",
    "    &= \\sum_{i = 0}^{n} a_ix^i\n",
    "\\end{align}\n",
    "$$"
   ]
  },
  {
   "cell_type": "code",
   "execution_count": null,
   "metadata": {},
   "outputs": [],
   "source": [
    "# Straightforward Approach\n",
    "def poly(x, coeffs):\n",
    "    p = 0\n",
    "    for i in range(len(coeffs)):\n",
    "        p = p + coeffs[i] * x**i \n",
    "    return p      "
   ]
  },
  {
   "cell_type": "code",
   "execution_count": 5,
   "metadata": {},
   "outputs": [
    {
     "name": "stdout",
     "output_type": "stream",
     "text": [
      "2651\n"
     ]
    }
   ],
   "source": [
    "coeffs = [1, 5, -4, 3]\n",
    "print(poly(10, coeffs))"
   ]
  },
  {
   "cell_type": "markdown",
   "metadata": {},
   "source": [
    "Everytime I calculate the $i^{\\text{th}}$ term, I calculate $x^i$. I'm not utilizing the fact that in the previous iteration, I had already calculated $x^{i-1}$. \n",
    "\n",
    "To make this more efficient, I could save the previous value and multipy it with x. \n",
    "OR (better), I can rewrite the polynomial as follows:\n",
    "\n",
    "$$p(x) = a_0 + a_1x + a_2x^2 + a_3x^3 + a_4x^4 \\\\\n",
    "\n",
    "p(x) = a_0 + x(a_1 + a_2x + a_3x^2 + a_4x^3)\\\\\n",
    "\n",
    "p(x) = a_0 + x(a_1 + x(a_2 + a_3x + a_4x^2))\\\\\n",
    "\n",
    "p(x) = a_0 + x(a_1 + x(a_2 + x(a_3 +  a_4x)))$$\n",
    "\n",
    "\n",
    "Thus, the calculation in each iteration is simply $t = a_i + x*t$. Note that we now have to iterate from the $n^{\\text{th}}$ term down to zero.\n",
    "\n",
    "\n",
    "We start with $t = 0$, and calculate $t = a_n + x*t = a_n$. In the following iterations, $t$ gets updated as $t = a_i + x*t$\n"
   ]
  },
  {
   "cell_type": "code",
   "execution_count": 19,
   "metadata": {},
   "outputs": [],
   "source": [
    "# Efficient Method\n",
    "def polye(x, coeffs):\n",
    "    p = 0\n",
    "    for i in range(len(coeffs) -1, -1, -1):\n",
    "        p = p * x + coeffs[i] \n",
    "    return p"
   ]
  },
  {
   "cell_type": "code",
   "execution_count": 23,
   "metadata": {},
   "outputs": [
    {
     "name": "stdout",
     "output_type": "stream",
     "text": [
      "70.24819341976502\n",
      "70.24819341976504\n"
     ]
    }
   ],
   "source": [
    "x = 3.14159\n",
    "print(polye(x, coeffs))\n",
    "print(poly(x, coeffs))"
   ]
  }
 ],
 "metadata": {
  "kernelspec": {
   "display_name": "Python 3",
   "language": "python",
   "name": "python3"
  },
  "language_info": {
   "codemirror_mode": {
    "name": "ipython",
    "version": 3
   },
   "file_extension": ".py",
   "mimetype": "text/x-python",
   "name": "python",
   "nbconvert_exporter": "python",
   "pygments_lexer": "ipython3",
   "version": "3.9.6"
  }
 },
 "nbformat": 4,
 "nbformat_minor": 2
}
