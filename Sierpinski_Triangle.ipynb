{
 "cells": [
  {
   "cell_type": "code",
   "execution_count": 2,
   "id": "a342d6c1-853b-4d8d-933d-6785031c2eab",
   "metadata": {
    "tags": []
   },
   "outputs": [],
   "source": [
    "from turtle import *\n",
    "import random"
   ]
  },
  {
   "cell_type": "markdown",
   "id": "3c770716",
   "metadata": {},
   "source": [
    "##### Chaos Game: \n",
    "\n",
    "The chaos game is a mathematical method for creating fractals, which are self-repeating patterns. The process begins with a geometric shape, such as a triangle, where the corners of the shape are designated as \"reference points.\" These reference points serve as fixed locations that guide the process.\n",
    "\n",
    "Start at a random point. Then, randomly select one of the vertices nd move to the midpoint of the two. The new location is then marked. This is repeated multiple times. This process begins to form a structure or a pattern.\n",
    "\n",
    "In the case of a triangle, this method produces the Sierpinski Triangle.\n",
    "\n",
    "##### Implementation Details:\n",
    "\n",
    "I specify the vertices of the triangle, which are stored as a list. These points represent the three corners of the triangle. Each vertex is then plotted on the screen as a dot.\n",
    "\n",
    "The program generates points that will gradually form the Sierpinski Triangle. During each iteration, a corner of the triangle is chosen at random. The current point, represented by the variables x and y, moves halfway toward this randomly selected vertex. This ensures that every new point is constrained within the triangle’s bounds and contributes to the emerging fractal pattern.\n",
    "\n",
    "\n"
   ]
  },
  {
   "cell_type": "code",
   "execution_count": null,
   "id": "4a7aa55c-7d09-4270-89ce-4a403b17e921",
   "metadata": {
    "tags": []
   },
   "outputs": [],
   "source": [
    "p = [[-300,-200], [300,-200], [0, 320]]\n",
    "\n",
    "for x, y in p:\n",
    "    penup()\n",
    "    goto(x, y)\n",
    "    pendown()\n",
    "    dot(2)\n",
    "\n",
    "for i in range(1000):\n",
    "    index = random.randint(0, 2)\n",
    "    vertex = p[index]\n",
    "    x = (x + vertex[0]) / 2\n",
    "    y = (y + vertex[1]) / 2\n",
    "    \n",
    "    penup()\n",
    "    goto(x, y)\n",
    "    pendown()\n",
    "    dot(2)\n",
    "    penup()\n",
    "    \n",
    "done()"
   ]
  }
 ],
 "metadata": {
  "kernelspec": {
   "display_name": "base",
   "language": "python",
   "name": "python3"
  },
  "language_info": {
   "codemirror_mode": {
    "name": "ipython",
    "version": 3
   },
   "file_extension": ".py",
   "mimetype": "text/x-python",
   "name": "python",
   "nbconvert_exporter": "python",
   "pygments_lexer": "ipython3",
   "version": "3.12.8"
  }
 },
 "nbformat": 4,
 "nbformat_minor": 5
}
