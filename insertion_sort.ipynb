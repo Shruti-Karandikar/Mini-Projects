{
 "cells": [
  {
   "cell_type": "code",
   "execution_count": 37,
   "metadata": {},
   "outputs": [],
   "source": [
    "import random\n",
    "import time\n",
    "import matplotlib.pyplot as plt\n",
    "from statistics import median"
   ]
  },
  {
   "cell_type": "markdown",
   "metadata": {},
   "source": [
    "Insertion Sort is a sorting algorithm that builds the final sorted array one item at a time.\n",
    "\n",
    "Start from the second element of the array and compare it with elements before it. If previous elements are bigger, shift them right and place the current element in its correct position repeat for all elements untill the array is sorted.\n",
    "\n",
    "Example with $[5,2,4,1]$:\n",
    "\n",
    "Take 2: $[5|2,4,1] = [2,5|4,1]$\n",
    "\n",
    "\n",
    "Take 4: $[2,5|4,1] = [2,4,5|1]$\n",
    "\n",
    "\n",
    "Take 1: $[2,4,5|1] = [1,2,4,5]$\n",
    "\n",
    "The | divides the sorted part from the unsorted list."
   ]
  },
  {
   "cell_type": "code",
   "execution_count": 2,
   "metadata": {},
   "outputs": [],
   "source": [
    "# This function cheacks if the list is sorted.\n",
    "def checkorder(a):\n",
    "    for index in range(1, len(a)):\n",
    "        if a[index] < a[index - 1]:\n",
    "            return False\n",
    "    return True"
   ]
  },
  {
   "cell_type": "code",
   "execution_count": 3,
   "metadata": {},
   "outputs": [],
   "source": [
    "# An example of how the functions work.\n",
    "n = 10000\n",
    "b = [random.random() for i  in range(n)]"
   ]
  },
  {
   "cell_type": "code",
   "execution_count": 7,
   "metadata": {},
   "outputs": [],
   "source": [
    "def insertionsort(a):\n",
    "    a = a.copy()\n",
    "    for i in range(1, len(a)):\n",
    "        num = a[i]\n",
    "        for j in range(i-1 , -1, -1):\n",
    "            if (a[j] > num):\n",
    "                a[j+1] = a[j]\n",
    "            else:\n",
    "                a[j+1] = num\n",
    "                break\n",
    "            if(j == 0):\n",
    "                a[j] = num\n",
    "                break\n",
    "    return a"
   ]
  },
  {
   "cell_type": "code",
   "execution_count": 11,
   "metadata": {},
   "outputs": [
    {
     "name": "stdout",
     "output_type": "stream",
     "text": [
      "1.6 s ± 17.3 ms per loop (mean ± std. dev. of 7 runs, 1 loop each)\n"
     ]
    }
   ],
   "source": [
    "%%timeit\n",
    "insertionsort(b)"
   ]
  },
  {
   "cell_type": "code",
   "execution_count": 5,
   "metadata": {},
   "outputs": [
    {
     "name": "stdout",
     "output_type": "stream",
     "text": [
      "True\n"
     ]
    }
   ],
   "source": [
    "print(checkorder(insertionsort(b)))"
   ]
  },
  {
   "cell_type": "markdown",
   "metadata": {},
   "source": [
    "I am measuring how long insertion sort takes for different sizes. I take a sorted list and record the time it takes to run insertion sort for a size in nanoseconds and then store the runtimes in a list. \n"
   ]
  },
  {
   "cell_type": "code",
   "execution_count": 15,
   "metadata": {},
   "outputs": [
    {
     "name": "stdout",
     "output_type": "stream",
     "text": [
      "[607875, 592708, 906958, 2256625, 1557250, 1881708, 1979250, 2082250, 2285708, 2689958]\n"
     ]
    }
   ],
   "source": [
    "array_size = [1000, 2000, 3000, 4000, 5000, 6000, 7000, 8000, 9000, 10000]\n",
    "runtime = []\n",
    "\n",
    "for i in array_size:\n",
    "    test_list = list(range(i))\n",
    "    \n",
    "    start = time.perf_counter_ns()\n",
    "    insertionsort(test_list)  \n",
    "    stop = time.perf_counter_ns()\n",
    "    \n",
    "    run_time = (stop - start)\n",
    "    runtime.append(run_time)\n",
    "print(runtime)\n"
   ]
  },
  {
   "cell_type": "markdown",
   "metadata": {},
   "source": [
    "There is a lot of variation because of the nature of the system."
   ]
  },
  {
   "cell_type": "code",
   "execution_count": 16,
   "metadata": {},
   "outputs": [
    {
     "data": {
      "text/plain": [
       "<matplotlib.collections.PathCollection at 0x107b6c2e0>"
      ]
     },
     "execution_count": 16,
     "metadata": {},
     "output_type": "execute_result"
    },
    {
     "data": {
      "image/png": "[encoded data removed]",
      "text/plain": [
       "<Figure size 640x480 with 1 Axes>"
      ]
     },
     "metadata": {},
     "output_type": "display_data"
    }
   ],
   "source": [
    "plt.scatter(array_size, runtime)"
   ]
  },
  {
   "cell_type": "markdown",
   "metadata": {},
   "source": [
    "This is an arrays of 30 numbers. For each number, it runs insertion sort three times and takes the median These median times are stored in a list which can be used to analyze and visualize how insertion sort's running time grows with array size.\n",
    "\n",
    "I take the median to reduce the variation."
   ]
  },
  {
   "cell_type": "code",
   "execution_count": 39,
   "metadata": {},
   "outputs": [],
   "source": [
    "array_size = [1000 * i for i in range(30)]\n",
    "runtime_median = []\n",
    "for i in array_size:\n",
    "    times = []\n",
    "    for a in range(3): \n",
    "        test_list = list(range(i))\n",
    "\n",
    "        start = time.perf_counter_ns()\n",
    "        insertionsort(test_list)\n",
    "        stop = time.perf_counter_ns()\n",
    "        times.append(stop - start)\n",
    "    times.sort() \n",
    "    median_time = median(times)\n",
    "    runtime_median.append(median_time)"
   ]
  },
  {
   "cell_type": "code",
   "execution_count": 41,
   "metadata": {},
   "outputs": [
    {
     "data": {
      "text/plain": [
       "<matplotlib.collections.PathCollection at 0x10a4e9d00>"
      ]
     },
     "execution_count": 41,
     "metadata": {},
     "output_type": "execute_result"
    },
    {
     "data": {
      "image/png": "[encoded data removed]",
      "text/plain": [
       "<Figure size 640x480 with 1 Axes>"
      ]
     },
     "metadata": {},
     "output_type": "display_data"
    }
   ],
   "source": [
    "# It grows linearly\n",
    "plt.scatter(array_size, runtime_median)"
   ]
  },
  {
   "cell_type": "markdown",
   "metadata": {},
   "source": [
    "Since insertion sort is an $O(n^2)$ algorithm, it will be a quadratic curve - as the array size increases, the runtime increases much faster following a parabola shape.\n",
    "\n",
    "Previously, I was using a sorted list. This is with random sizes."
   ]
  },
  {
   "cell_type": "code",
   "execution_count": 42,
   "metadata": {},
   "outputs": [],
   "source": [
    "# Without a sorted list\n",
    "array_size = [1000 * i for i in range(30)]\n",
    "runtime_median_random = []\n",
    "\n",
    "for i in array_size:\n",
    "    times = []\n",
    "    test_list = [random.random() for _ in range(i)]\n",
    "\n",
    "    for a in range(3): \n",
    "        start = time.perf_counter_ns()\n",
    "        insertionsort(test_list)\n",
    "        stop = time.perf_counter_ns()\n",
    "        times.append(stop - start)\n",
    "        \n",
    "    times.sort() \n",
    "    median_time = median(times)\n",
    "    print(f'done with array size {i}')\n",
    "    runtime_median_random.append(median_time)"
   ]
  },
  {
   "cell_type": "code",
   "execution_count": 43,
   "metadata": {},
   "outputs": [
    {
     "data": {
      "text/plain": [
       "<matplotlib.collections.PathCollection at 0x10a4b1d00>"
      ]
     },
     "execution_count": 43,
     "metadata": {},
     "output_type": "execute_result"
    },
    {
     "data": {
      "image/png": "[encoded data removed]",
      "text/plain": [
       "<Figure size 640x480 with 1 Axes>"
      ]
     },
     "metadata": {},
     "output_type": "display_data"
    }
   ],
   "source": [
    "plt.scatter(array_size, runtime_median)\n",
    "plt.scatter(array_size, runtime_median_random)"
   ]
  },
  {
   "cell_type": "markdown",
   "metadata": {},
   "source": [
    "This is with a reverse sorted list- worst case scenario"
   ]
  },
  {
   "cell_type": "code",
   "execution_count": 44,
   "metadata": {},
   "outputs": [],
   "source": [
    "array_size = [1000 * i for i in range(30)]\n",
    "runtime_median_reverse = []\n",
    "\n",
    "for i in array_size:\n",
    "    times = []\n",
    "    test_list = list(range(i, 0, -1))\n",
    "\n",
    "    for a in range(3): \n",
    "        start = time.perf_counter_ns()\n",
    "        insertionsort(test_list)\n",
    "        stop = time.perf_counter_ns()\n",
    "        times.append(stop - start)\n",
    "        \n",
    "    times.sort() \n",
    "    median_time = median(times)\n",
    "    runtime_median_reverse.append(median_time)"
   ]
  },
  {
   "cell_type": "code",
   "execution_count": 45,
   "metadata": {},
   "outputs": [
    {
     "data": {
      "text/plain": [
       "<matplotlib.collections.PathCollection at 0x10a320520>"
      ]
     },
     "execution_count": 45,
     "metadata": {},
     "output_type": "execute_result"
    },
    {
     "data": {
      "image/png": "[encoded data removed]",
      "text/plain": [
       "<Figure size 640x480 with 1 Axes>"
      ]
     },
     "metadata": {},
     "output_type": "display_data"
    }
   ],
   "source": [
    "plt.scatter(array_size, runtime_median)\n",
    "plt.scatter(array_size, runtime_median_random)\n",
    "plt.scatter(array_size, runtime_median_reverse)"
   ]
  },
  {
   "cell_type": "markdown",
   "metadata": {},
   "source": [
    "When the input data is sorted we get a linear runtime because no elements move. This takes the least amount of time and is the best case scenario. This is the blue curve in the graph above.\n",
    "\n",
    "The worst case is the reverse sorted list as every element has to be moved from its position to the beginning of the list. This takes the most amount of time. This is the green curve in the graph above.\n",
    "\n",
    "The average case is between the quadratic cure and the linear curve, when the list is random. This is the orange curve in the graph above."
   ]
  }
 ],
 "metadata": {
  "kernelspec": {
   "display_name": "Python 3",
   "language": "python",
   "name": "python3"
  },
  "language_info": {
   "codemirror_mode": {
    "name": "ipython",
    "version": 3
   },
   "file_extension": ".py",
   "mimetype": "text/x-python",
   "name": "python",
   "nbconvert_exporter": "python",
   "pygments_lexer": "ipython3",
   "version": "3.9.6"
  }
 },
 "nbformat": 4,
 "nbformat_minor": 2
}
